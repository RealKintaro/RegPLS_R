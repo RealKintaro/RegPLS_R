{
 "cells": [
  {
   "cell_type": "code",
   "execution_count": 66,
   "metadata": {
    "vscode": {
     "languageId": "r"
    }
   },
   "outputs": [],
   "source": [
    "library(data.table)"
   ]
  },
  {
   "cell_type": "code",
   "execution_count": 67,
   "metadata": {
    "vscode": {
     "languageId": "r"
    }
   },
   "outputs": [],
   "source": [
    "# Class for PLS\n",
    "PLS<-setRefClass(\"PLS_DS\",\n",
    "                fields = list(\n",
    "                p_value_threshold = \"numeric\",\n",
    "                correclation_threshold = \"numeric\"\n",
    "                ),\n",
    "                methods = list(\n",
    "                    transform = function(X,y){\n",
    "                        # x dataframe\n",
    "                        df = data.frame(X)\n",
    "                        df['Y']= y\n",
    "                        # correlation matrix\n",
    "                        corr = cor(df)\n",
    "\n",
    "\n",
    "                        #scale data\n",
    "                        df_scaled = scale(df)\n",
    "                        df_scaled = data.frame(df_scaled)\n",
    "\n",
    "                        n_features = ncol(X)\n",
    "                        corr_y = corr[n_features + 1,1:n_features]\n",
    "                        corr_yabs = abs(corr_y)\n",
    "\n",
    "                        # Empty list to store the selected features\n",
    "                        selected_features = list()\n",
    "\n",
    "                        for (i in 1:n_features){\n",
    "                            if (corr_yabs[i] > self$correclation_threshold){\n",
    "                                selected_features[[length(selected_features) + 1]] = i\n",
    "                            }\n",
    "                        }\n",
    "\n",
    "                        sum1 = 0\n",
    "                        sum2 = 0\n",
    "                        for (i in selected_features){\n",
    "                            sum1 = sum1 + corr[n_features + 1 , 1:n_features][i] * df_scaled[i]\n",
    "                            sum2 = sum2 + corr_yabs[i]**2\n",
    "                        }\n",
    "\n",
    "                        T1 = (1/sqrt(sum2)) * sum1\n",
    "                        T = data.frame(T1 = T1)\n",
    "                        Y_scaled = df_scaled[n_features + 1]\n",
    "\n",
    "                        j = 2\n",
    "                        while (TRUE){\n",
    "                            model = list()\n",
    "                            for (i in 1:n_features){\n",
    "                                X_ = cbind(df_scaled[i],T)\n",
    "                                model[[i]] = lm(formula = unlist(Y_scaled) ~ unlist(T) + unlist(df_scaled[i]) )                    \n",
    "                            }\n",
    "\n",
    "                            col2 = list()\n",
    "                            for (i in 1:n_features){\n",
    "                                p_value = summary(model[[i]])$coefficients[,4][3]\n",
    "                                if (p_value < self$p_value_threshold){\n",
    "                                    col2[[length(col2) + 1]] = i\n",
    "                                }\n",
    "                            }\n",
    "\n",
    "                        }\n",
    "                        \n",
    "                    }\n",
    "                \n",
    "                )\n",
    ")"
   ]
  },
  {
   "cell_type": "code",
   "execution_count": 68,
   "metadata": {
    "vscode": {
     "languageId": "r"
    }
   },
   "outputs": [
    {
     "data": {
      "text/html": [
       "<style>\n",
       ".list-inline {list-style: none; margin:0; padding: 0}\n",
       ".list-inline>li {display: inline-block}\n",
       ".list-inline>li:not(:last-child)::after {content: \"\\00b7\"; padding: 0 .5ex}\n",
       "</style>\n",
       "<ol class=list-inline><li>98.7</li><li>97.8</li><li>96.6</li><li>92</li><li>86.6</li><li>91.2</li></ol>\n"
      ],
      "text/latex": [
       "\\begin{enumerate*}\n",
       "\\item 98.7\n",
       "\\item 97.8\n",
       "\\item 96.6\n",
       "\\item 92\n",
       "\\item 86.6\n",
       "\\item 91.2\n",
       "\\end{enumerate*}\n"
      ],
      "text/markdown": [
       "1. 98.7\n",
       "2. 97.8\n",
       "3. 96.6\n",
       "4. 92\n",
       "5. 86.6\n",
       "6. 91.2\n",
       "\n",
       "\n"
      ],
      "text/plain": [
       "[1] 98.7 97.8 96.6 92.0 86.6 91.2"
      ]
     },
     "metadata": {},
     "output_type": "display_data"
    },
    {
     "name": "stdout",
     "output_type": "stream",
     "text": [
      "     X1   X2   X3   X4   X5   X6   X7\n",
      "1  0.00 0.23 0.00 0.00 0.00 0.74 0.03\n",
      "2  0.00 0.10 0.00 0.00 0.12 0.74 0.04\n",
      "3  0.00 0.00 0.00 0.10 0.12 0.74 0.04\n",
      "4  0.00 0.49 0.00 0.00 0.12 0.37 0.02\n",
      "5  0.00 0.00 0.00 0.62 0.12 0.18 0.08\n",
      "6  0.00 0.62 0.00 0.00 0.00 0.37 0.01\n",
      "7  0.17 0.27 0.10 0.38 0.00 0.00 0.08\n",
      "8  0.17 0.19 0.10 0.38 0.02 0.06 0.08\n",
      "9  0.17 0.21 0.10 0.38 0.00 0.06 0.08\n",
      "10 0.17 0.15 0.10 0.38 0.02 0.10 0.08\n",
      "11 0.21 0.36 0.12 0.25 0.00 0.00 0.06\n",
      "12 0.00 0.00 0.00 0.55 0.00 0.37 0.08\n",
      "     X1   X2   X3   X4   X5   X6   X7    Y\n",
      "1  0.00 0.23 0.00 0.00 0.00 0.74 0.03 98.7\n",
      "2  0.00 0.10 0.00 0.00 0.12 0.74 0.04 97.8\n",
      "3  0.00 0.00 0.00 0.10 0.12 0.74 0.04 96.6\n",
      "4  0.00 0.49 0.00 0.00 0.12 0.37 0.02 92.0\n",
      "5  0.00 0.00 0.00 0.62 0.12 0.18 0.08 86.6\n",
      "6  0.00 0.62 0.00 0.00 0.00 0.37 0.01 91.2\n",
      "7  0.17 0.27 0.10 0.38 0.00 0.00 0.08 81.9\n",
      "8  0.17 0.19 0.10 0.38 0.02 0.06 0.08 83.1\n",
      "9  0.17 0.21 0.10 0.38 0.00 0.06 0.08 82.4\n",
      "10 0.17 0.15 0.10 0.38 0.02 0.10 0.08 83.2\n",
      "11 0.21 0.36 0.12 0.25 0.00 0.00 0.06 81.4\n",
      "12 0.00 0.00 0.00 0.55 0.00 0.37 0.08 88.1\n"
     ]
    }
   ],
   "source": [
    "# get of this file path\n",
    "\n",
    "path2data<-file.path(\"c:\",\"Users\",\"makch\",\"STUDIES\",\"s3\",\"ADD\",\"regPLS\")\n",
    "\n",
    "# read data\n",
    "DM.dt <- fread(file.path(path2data, \"Data_Cornell.csv\"))\n",
    "\n",
    "\n",
    "# data frame creation\n",
    "df <- data.frame(DM.dt)\n",
    "\n",
    "\n",
    "\n",
    "Y = df$Y\n",
    "\n",
    "head(Y)\n",
    "\n",
    "X = subset(df, select = -c(Y))\n",
    "\n",
    "print(X)\n",
    "\n",
    "df2 = data.frame(X)\n",
    "df2['Y'] = Y\n",
    "\n",
    "print(df2)"
   ]
  },
  {
   "cell_type": "code",
   "execution_count": 69,
   "metadata": {
    "vscode": {
     "languageId": "r"
    }
   },
   "outputs": [
    {
     "data": {
      "text/html": [
       "<table class=\"dataframe\">\n",
       "<caption>A data.frame: 12 × 8</caption>\n",
       "<thead>\n",
       "\t<tr><th></th><th scope=col>X1</th><th scope=col>X2</th><th scope=col>X3</th><th scope=col>X4</th><th scope=col>X5</th><th scope=col>X6</th><th scope=col>X7</th><th scope=col>Y</th></tr>\n",
       "\t<tr><th></th><th scope=col>&lt;dbl&gt;</th><th scope=col>&lt;dbl&gt;</th><th scope=col>&lt;dbl&gt;</th><th scope=col>&lt;dbl&gt;</th><th scope=col>&lt;dbl&gt;</th><th scope=col>&lt;dbl&gt;</th><th scope=col>&lt;dbl&gt;</th><th scope=col>&lt;dbl&gt;</th></tr>\n",
       "</thead>\n",
       "<tbody>\n",
       "\t<tr><th scope=row>1</th><td>-0.8036272</td><td> 0.05966583</td><td>-0.8051005</td><td>-1.11595895</td><td>-0.7588797</td><td> 1.4652349</td><td>-0.9847319</td><td> 1.55133368</td></tr>\n",
       "\t<tr><th scope=row>2</th><td>-0.8036272</td><td>-0.60518202</td><td>-0.8051005</td><td>-1.11595895</td><td> 1.3426333</td><td> 1.4652349</td><td>-0.6154575</td><td> 1.41332377</td></tr>\n",
       "\t<tr><th scope=row>3</th><td>-0.8036272</td><td>-1.11660345</td><td>-0.8051005</td><td>-0.67544884</td><td> 1.3426333</td><td> 1.4652349</td><td>-0.6154575</td><td> 1.22931055</td></tr>\n",
       "\t<tr><th scope=row>4</th><td>-0.8036272</td><td> 1.38936154</td><td>-0.8051005</td><td>-1.11595895</td><td> 1.3426333</td><td> 0.2020033</td><td>-1.3540064</td><td> 0.52392653</td></tr>\n",
       "\t<tr><th scope=row>5</th><td>-0.8036272</td><td>-1.11660345</td><td>-0.8051005</td><td> 1.61520375</td><td> 1.3426333</td><td>-0.4466833</td><td> 0.8616404</td><td>-0.30413296</td></tr>\n",
       "\t<tr><th scope=row>6</th><td>-0.8036272</td><td> 2.05420939</td><td>-0.8051005</td><td>-1.11595895</td><td>-0.7588797</td><td> 0.2020033</td><td>-1.7232809</td><td> 0.40125105</td></tr>\n",
       "\t<tr><th scope=row>7</th><td> 1.0383947</td><td> 0.26423440</td><td> 1.0528238</td><td> 0.55797948</td><td>-0.7588797</td><td>-1.0612284</td><td> 0.8616404</td><td>-1.02485141</td></tr>\n",
       "\t<tr><th scope=row>8</th><td> 1.0383947</td><td>-0.14490274</td><td> 1.0528238</td><td> 0.55797948</td><td>-0.4086275</td><td>-0.8563800</td><td> 0.8616404</td><td>-0.84083819</td></tr>\n",
       "\t<tr><th scope=row>9</th><td> 1.0383947</td><td>-0.04261845</td><td> 1.0528238</td><td> 0.55797948</td><td>-0.7588797</td><td>-0.8563800</td><td> 0.8616404</td><td>-0.94817924</td></tr>\n",
       "\t<tr><th scope=row>10</th><td> 1.0383947</td><td>-0.34947131</td><td> 1.0528238</td><td> 0.55797948</td><td>-0.4086275</td><td>-0.7198144</td><td> 0.8616404</td><td>-0.82550375</td></tr>\n",
       "\t<tr><th scope=row>11</th><td> 1.4718116</td><td> 0.72451369</td><td> 1.4244087</td><td>-0.01468367</td><td>-0.7588797</td><td>-1.0612284</td><td> 0.1230915</td><td>-1.10152359</td></tr>\n",
       "\t<tr><th scope=row>12</th><td>-0.8036272</td><td>-1.11660345</td><td>-0.8051005</td><td> 1.30684667</td><td>-0.7588797</td><td> 0.2020033</td><td> 0.8616404</td><td>-0.07411644</td></tr>\n",
       "</tbody>\n",
       "</table>\n"
      ],
      "text/latex": [
       "A data.frame: 12 × 8\n",
       "\\begin{tabular}{r|llllllll}\n",
       "  & X1 & X2 & X3 & X4 & X5 & X6 & X7 & Y\\\\\n",
       "  & <dbl> & <dbl> & <dbl> & <dbl> & <dbl> & <dbl> & <dbl> & <dbl>\\\\\n",
       "\\hline\n",
       "\t1 & -0.8036272 &  0.05966583 & -0.8051005 & -1.11595895 & -0.7588797 &  1.4652349 & -0.9847319 &  1.55133368\\\\\n",
       "\t2 & -0.8036272 & -0.60518202 & -0.8051005 & -1.11595895 &  1.3426333 &  1.4652349 & -0.6154575 &  1.41332377\\\\\n",
       "\t3 & -0.8036272 & -1.11660345 & -0.8051005 & -0.67544884 &  1.3426333 &  1.4652349 & -0.6154575 &  1.22931055\\\\\n",
       "\t4 & -0.8036272 &  1.38936154 & -0.8051005 & -1.11595895 &  1.3426333 &  0.2020033 & -1.3540064 &  0.52392653\\\\\n",
       "\t5 & -0.8036272 & -1.11660345 & -0.8051005 &  1.61520375 &  1.3426333 & -0.4466833 &  0.8616404 & -0.30413296\\\\\n",
       "\t6 & -0.8036272 &  2.05420939 & -0.8051005 & -1.11595895 & -0.7588797 &  0.2020033 & -1.7232809 &  0.40125105\\\\\n",
       "\t7 &  1.0383947 &  0.26423440 &  1.0528238 &  0.55797948 & -0.7588797 & -1.0612284 &  0.8616404 & -1.02485141\\\\\n",
       "\t8 &  1.0383947 & -0.14490274 &  1.0528238 &  0.55797948 & -0.4086275 & -0.8563800 &  0.8616404 & -0.84083819\\\\\n",
       "\t9 &  1.0383947 & -0.04261845 &  1.0528238 &  0.55797948 & -0.7588797 & -0.8563800 &  0.8616404 & -0.94817924\\\\\n",
       "\t10 &  1.0383947 & -0.34947131 &  1.0528238 &  0.55797948 & -0.4086275 & -0.7198144 &  0.8616404 & -0.82550375\\\\\n",
       "\t11 &  1.4718116 &  0.72451369 &  1.4244087 & -0.01468367 & -0.7588797 & -1.0612284 &  0.1230915 & -1.10152359\\\\\n",
       "\t12 & -0.8036272 & -1.11660345 & -0.8051005 &  1.30684667 & -0.7588797 &  0.2020033 &  0.8616404 & -0.07411644\\\\\n",
       "\\end{tabular}\n"
      ],
      "text/markdown": [
       "\n",
       "A data.frame: 12 × 8\n",
       "\n",
       "| <!--/--> | X1 &lt;dbl&gt; | X2 &lt;dbl&gt; | X3 &lt;dbl&gt; | X4 &lt;dbl&gt; | X5 &lt;dbl&gt; | X6 &lt;dbl&gt; | X7 &lt;dbl&gt; | Y &lt;dbl&gt; |\n",
       "|---|---|---|---|---|---|---|---|---|\n",
       "| 1 | -0.8036272 |  0.05966583 | -0.8051005 | -1.11595895 | -0.7588797 |  1.4652349 | -0.9847319 |  1.55133368 |\n",
       "| 2 | -0.8036272 | -0.60518202 | -0.8051005 | -1.11595895 |  1.3426333 |  1.4652349 | -0.6154575 |  1.41332377 |\n",
       "| 3 | -0.8036272 | -1.11660345 | -0.8051005 | -0.67544884 |  1.3426333 |  1.4652349 | -0.6154575 |  1.22931055 |\n",
       "| 4 | -0.8036272 |  1.38936154 | -0.8051005 | -1.11595895 |  1.3426333 |  0.2020033 | -1.3540064 |  0.52392653 |\n",
       "| 5 | -0.8036272 | -1.11660345 | -0.8051005 |  1.61520375 |  1.3426333 | -0.4466833 |  0.8616404 | -0.30413296 |\n",
       "| 6 | -0.8036272 |  2.05420939 | -0.8051005 | -1.11595895 | -0.7588797 |  0.2020033 | -1.7232809 |  0.40125105 |\n",
       "| 7 |  1.0383947 |  0.26423440 |  1.0528238 |  0.55797948 | -0.7588797 | -1.0612284 |  0.8616404 | -1.02485141 |\n",
       "| 8 |  1.0383947 | -0.14490274 |  1.0528238 |  0.55797948 | -0.4086275 | -0.8563800 |  0.8616404 | -0.84083819 |\n",
       "| 9 |  1.0383947 | -0.04261845 |  1.0528238 |  0.55797948 | -0.7588797 | -0.8563800 |  0.8616404 | -0.94817924 |\n",
       "| 10 |  1.0383947 | -0.34947131 |  1.0528238 |  0.55797948 | -0.4086275 | -0.7198144 |  0.8616404 | -0.82550375 |\n",
       "| 11 |  1.4718116 |  0.72451369 |  1.4244087 | -0.01468367 | -0.7588797 | -1.0612284 |  0.1230915 | -1.10152359 |\n",
       "| 12 | -0.8036272 | -1.11660345 | -0.8051005 |  1.30684667 | -0.7588797 |  0.2020033 |  0.8616404 | -0.07411644 |\n",
       "\n"
      ],
      "text/plain": [
       "   X1         X2          X3         X4          X5         X6        \n",
       "1  -0.8036272  0.05966583 -0.8051005 -1.11595895 -0.7588797  1.4652349\n",
       "2  -0.8036272 -0.60518202 -0.8051005 -1.11595895  1.3426333  1.4652349\n",
       "3  -0.8036272 -1.11660345 -0.8051005 -0.67544884  1.3426333  1.4652349\n",
       "4  -0.8036272  1.38936154 -0.8051005 -1.11595895  1.3426333  0.2020033\n",
       "5  -0.8036272 -1.11660345 -0.8051005  1.61520375  1.3426333 -0.4466833\n",
       "6  -0.8036272  2.05420939 -0.8051005 -1.11595895 -0.7588797  0.2020033\n",
       "7   1.0383947  0.26423440  1.0528238  0.55797948 -0.7588797 -1.0612284\n",
       "8   1.0383947 -0.14490274  1.0528238  0.55797948 -0.4086275 -0.8563800\n",
       "9   1.0383947 -0.04261845  1.0528238  0.55797948 -0.7588797 -0.8563800\n",
       "10  1.0383947 -0.34947131  1.0528238  0.55797948 -0.4086275 -0.7198144\n",
       "11  1.4718116  0.72451369  1.4244087 -0.01468367 -0.7588797 -1.0612284\n",
       "12 -0.8036272 -1.11660345 -0.8051005  1.30684667 -0.7588797  0.2020033\n",
       "   X7         Y          \n",
       "1  -0.9847319  1.55133368\n",
       "2  -0.6154575  1.41332377\n",
       "3  -0.6154575  1.22931055\n",
       "4  -1.3540064  0.52392653\n",
       "5   0.8616404 -0.30413296\n",
       "6  -1.7232809  0.40125105\n",
       "7   0.8616404 -1.02485141\n",
       "8   0.8616404 -0.84083819\n",
       "9   0.8616404 -0.94817924\n",
       "10  0.8616404 -0.82550375\n",
       "11  0.1230915 -1.10152359\n",
       "12  0.8616404 -0.07411644"
      ]
     },
     "metadata": {},
     "output_type": "display_data"
    }
   ],
   "source": [
    "dt_sclaed = scale(df2)\n",
    "df_scaled = data.frame(dt_sclaed)\n",
    "df_scaled"
   ]
  },
  {
   "cell_type": "code",
   "execution_count": 70,
   "metadata": {
    "vscode": {
     "languageId": "r"
    }
   },
   "outputs": [
    {
     "data": {
      "text/html": [
       "<table class=\"dataframe\">\n",
       "<caption>A matrix: 8 × 8 of type dbl</caption>\n",
       "<thead>\n",
       "\t<tr><th></th><th scope=col>X1</th><th scope=col>X2</th><th scope=col>X3</th><th scope=col>X4</th><th scope=col>X5</th><th scope=col>X6</th><th scope=col>X7</th><th scope=col>Y</th></tr>\n",
       "</thead>\n",
       "<tbody>\n",
       "\t<tr><th scope=row>X1</th><td> 1.0000000</td><td> 0.10419638</td><td> 0.9998593</td><td> 0.3707118</td><td>-0.5479938</td><td>-0.8045838</td><td> 0.6026118</td><td>-0.83729576</td></tr>\n",
       "\t<tr><th scope=row>X2</th><td> 0.1041964</td><td> 1.00000000</td><td> 0.1007769</td><td>-0.5368641</td><td>-0.2925732</td><td>-0.1912469</td><td>-0.5900284</td><td>-0.07081888</td></tr>\n",
       "\t<tr><th scope=row>X3</th><td> 0.9998593</td><td> 0.10077691</td><td> 1.0000000</td><td> 0.3739997</td><td>-0.5482009</td><td>-0.8052036</td><td> 0.6070804</td><td>-0.83795781</td></tr>\n",
       "\t<tr><th scope=row>X4</th><td> 0.3707118</td><td>-0.53686410</td><td> 0.3739997</td><td> 1.0000000</td><td>-0.2113300</td><td>-0.6456559</td><td> 0.9158765</td><td>-0.70671354</td></tr>\n",
       "\t<tr><th scope=row>X5</th><td>-0.5479938</td><td>-0.29257322</td><td>-0.5482009</td><td>-0.2113300</td><td> 1.0000000</td><td> 0.4629233</td><td>-0.2743558</td><td> 0.49379905</td></tr>\n",
       "\t<tr><th scope=row>X6</th><td>-0.8045838</td><td>-0.19124694</td><td>-0.8052036</td><td>-0.6456559</td><td> 0.4629233</td><td> 1.0000000</td><td>-0.6563565</td><td> 0.98507041</td></tr>\n",
       "\t<tr><th scope=row>X7</th><td> 0.6026118</td><td>-0.59002842</td><td> 0.6070804</td><td> 0.9158765</td><td>-0.2743558</td><td>-0.6563565</td><td> 1.0000000</td><td>-0.74111624</td></tr>\n",
       "\t<tr><th scope=row>Y</th><td>-0.8372958</td><td>-0.07081888</td><td>-0.8379578</td><td>-0.7067135</td><td> 0.4937990</td><td> 0.9850704</td><td>-0.7411162</td><td> 1.00000000</td></tr>\n",
       "</tbody>\n",
       "</table>\n"
      ],
      "text/latex": [
       "A matrix: 8 × 8 of type dbl\n",
       "\\begin{tabular}{r|llllllll}\n",
       "  & X1 & X2 & X3 & X4 & X5 & X6 & X7 & Y\\\\\n",
       "\\hline\n",
       "\tX1 &  1.0000000 &  0.10419638 &  0.9998593 &  0.3707118 & -0.5479938 & -0.8045838 &  0.6026118 & -0.83729576\\\\\n",
       "\tX2 &  0.1041964 &  1.00000000 &  0.1007769 & -0.5368641 & -0.2925732 & -0.1912469 & -0.5900284 & -0.07081888\\\\\n",
       "\tX3 &  0.9998593 &  0.10077691 &  1.0000000 &  0.3739997 & -0.5482009 & -0.8052036 &  0.6070804 & -0.83795781\\\\\n",
       "\tX4 &  0.3707118 & -0.53686410 &  0.3739997 &  1.0000000 & -0.2113300 & -0.6456559 &  0.9158765 & -0.70671354\\\\\n",
       "\tX5 & -0.5479938 & -0.29257322 & -0.5482009 & -0.2113300 &  1.0000000 &  0.4629233 & -0.2743558 &  0.49379905\\\\\n",
       "\tX6 & -0.8045838 & -0.19124694 & -0.8052036 & -0.6456559 &  0.4629233 &  1.0000000 & -0.6563565 &  0.98507041\\\\\n",
       "\tX7 &  0.6026118 & -0.59002842 &  0.6070804 &  0.9158765 & -0.2743558 & -0.6563565 &  1.0000000 & -0.74111624\\\\\n",
       "\tY & -0.8372958 & -0.07081888 & -0.8379578 & -0.7067135 &  0.4937990 &  0.9850704 & -0.7411162 &  1.00000000\\\\\n",
       "\\end{tabular}\n"
      ],
      "text/markdown": [
       "\n",
       "A matrix: 8 × 8 of type dbl\n",
       "\n",
       "| <!--/--> | X1 | X2 | X3 | X4 | X5 | X6 | X7 | Y |\n",
       "|---|---|---|---|---|---|---|---|---|\n",
       "| X1 |  1.0000000 |  0.10419638 |  0.9998593 |  0.3707118 | -0.5479938 | -0.8045838 |  0.6026118 | -0.83729576 |\n",
       "| X2 |  0.1041964 |  1.00000000 |  0.1007769 | -0.5368641 | -0.2925732 | -0.1912469 | -0.5900284 | -0.07081888 |\n",
       "| X3 |  0.9998593 |  0.10077691 |  1.0000000 |  0.3739997 | -0.5482009 | -0.8052036 |  0.6070804 | -0.83795781 |\n",
       "| X4 |  0.3707118 | -0.53686410 |  0.3739997 |  1.0000000 | -0.2113300 | -0.6456559 |  0.9158765 | -0.70671354 |\n",
       "| X5 | -0.5479938 | -0.29257322 | -0.5482009 | -0.2113300 |  1.0000000 |  0.4629233 | -0.2743558 |  0.49379905 |\n",
       "| X6 | -0.8045838 | -0.19124694 | -0.8052036 | -0.6456559 |  0.4629233 |  1.0000000 | -0.6563565 |  0.98507041 |\n",
       "| X7 |  0.6026118 | -0.59002842 |  0.6070804 |  0.9158765 | -0.2743558 | -0.6563565 |  1.0000000 | -0.74111624 |\n",
       "| Y | -0.8372958 | -0.07081888 | -0.8379578 | -0.7067135 |  0.4937990 |  0.9850704 | -0.7411162 |  1.00000000 |\n",
       "\n"
      ],
      "text/plain": [
       "   X1         X2          X3         X4         X5         X6        \n",
       "X1  1.0000000  0.10419638  0.9998593  0.3707118 -0.5479938 -0.8045838\n",
       "X2  0.1041964  1.00000000  0.1007769 -0.5368641 -0.2925732 -0.1912469\n",
       "X3  0.9998593  0.10077691  1.0000000  0.3739997 -0.5482009 -0.8052036\n",
       "X4  0.3707118 -0.53686410  0.3739997  1.0000000 -0.2113300 -0.6456559\n",
       "X5 -0.5479938 -0.29257322 -0.5482009 -0.2113300  1.0000000  0.4629233\n",
       "X6 -0.8045838 -0.19124694 -0.8052036 -0.6456559  0.4629233  1.0000000\n",
       "X7  0.6026118 -0.59002842  0.6070804  0.9158765 -0.2743558 -0.6563565\n",
       "Y  -0.8372958 -0.07081888 -0.8379578 -0.7067135  0.4937990  0.9850704\n",
       "   X7         Y          \n",
       "X1  0.6026118 -0.83729576\n",
       "X2 -0.5900284 -0.07081888\n",
       "X3  0.6070804 -0.83795781\n",
       "X4  0.9158765 -0.70671354\n",
       "X5 -0.2743558  0.49379905\n",
       "X6 -0.6563565  0.98507041\n",
       "X7  1.0000000 -0.74111624\n",
       "Y  -0.7411162  1.00000000"
      ]
     },
     "metadata": {},
     "output_type": "display_data"
    }
   ],
   "source": [
    "cortest = cor(df2)\n",
    "cortest"
   ]
  },
  {
   "cell_type": "code",
   "execution_count": 71,
   "metadata": {
    "vscode": {
     "languageId": "r"
    }
   },
   "outputs": [
    {
     "data": {
      "text/html": [
       "7"
      ],
      "text/latex": [
       "7"
      ],
      "text/markdown": [
       "7"
      ],
      "text/plain": [
       "[1] 7"
      ]
     },
     "metadata": {},
     "output_type": "display_data"
    },
    {
     "data": {
      "text/html": [
       "<style>\n",
       ".dl-inline {width: auto; margin:0; padding: 0}\n",
       ".dl-inline>dt, .dl-inline>dd {float: none; width: auto; display: inline-block}\n",
       ".dl-inline>dt::after {content: \":\\0020\"; padding-right: .5ex}\n",
       ".dl-inline>dt:not(:first-of-type) {padding-left: .5ex}\n",
       "</style><dl class=dl-inline><dt>X1</dt><dd>-0.837295761959791</dd><dt>X2</dt><dd>-0.0708188750487884</dd><dt>X3</dt><dd>-0.837957808034689</dd><dt>X4</dt><dd>-0.706713538364348</dd><dt>X5</dt><dd>0.493799047245563</dd><dt>X6</dt><dd>0.985070413923961</dd><dt>X7</dt><dd>-0.74111624382485</dd></dl>\n"
      ],
      "text/latex": [
       "\\begin{description*}\n",
       "\\item[X1] -0.837295761959791\n",
       "\\item[X2] -0.0708188750487884\n",
       "\\item[X3] -0.837957808034689\n",
       "\\item[X4] -0.706713538364348\n",
       "\\item[X5] 0.493799047245563\n",
       "\\item[X6] 0.985070413923961\n",
       "\\item[X7] -0.74111624382485\n",
       "\\end{description*}\n"
      ],
      "text/markdown": [
       "X1\n",
       ":   -0.837295761959791X2\n",
       ":   -0.0708188750487884X3\n",
       ":   -0.837957808034689X4\n",
       ":   -0.706713538364348X5\n",
       ":   0.493799047245563X6\n",
       ":   0.985070413923961X7\n",
       ":   -0.74111624382485\n",
       "\n"
      ],
      "text/plain": [
       "         X1          X2          X3          X4          X5          X6 \n",
       "-0.83729576 -0.07081888 -0.83795781 -0.70671354  0.49379905  0.98507041 \n",
       "         X7 \n",
       "-0.74111624 "
      ]
     },
     "metadata": {},
     "output_type": "display_data"
    },
    {
     "data": {
      "text/html": [
       "<style>\n",
       ".dl-inline {width: auto; margin:0; padding: 0}\n",
       ".dl-inline>dt, .dl-inline>dd {float: none; width: auto; display: inline-block}\n",
       ".dl-inline>dt::after {content: \":\\0020\"; padding-right: .5ex}\n",
       ".dl-inline>dt:not(:first-of-type) {padding-left: .5ex}\n",
       "</style><dl class=dl-inline><dt>X1</dt><dd>0.837295761959791</dd><dt>X2</dt><dd>0.0708188750487884</dd><dt>X3</dt><dd>0.837957808034689</dd><dt>X4</dt><dd>0.706713538364348</dd><dt>X5</dt><dd>0.493799047245563</dd><dt>X6</dt><dd>0.985070413923961</dd><dt>X7</dt><dd>0.74111624382485</dd></dl>\n"
      ],
      "text/latex": [
       "\\begin{description*}\n",
       "\\item[X1] 0.837295761959791\n",
       "\\item[X2] 0.0708188750487884\n",
       "\\item[X3] 0.837957808034689\n",
       "\\item[X4] 0.706713538364348\n",
       "\\item[X5] 0.493799047245563\n",
       "\\item[X6] 0.985070413923961\n",
       "\\item[X7] 0.74111624382485\n",
       "\\end{description*}\n"
      ],
      "text/markdown": [
       "X1\n",
       ":   0.837295761959791X2\n",
       ":   0.0708188750487884X3\n",
       ":   0.837957808034689X4\n",
       ":   0.706713538364348X5\n",
       ":   0.493799047245563X6\n",
       ":   0.985070413923961X7\n",
       ":   0.74111624382485\n",
       "\n"
      ],
      "text/plain": [
       "        X1         X2         X3         X4         X5         X6         X7 \n",
       "0.83729576 0.07081888 0.83795781 0.70671354 0.49379905 0.98507041 0.74111624 "
      ]
     },
     "metadata": {},
     "output_type": "display_data"
    }
   ],
   "source": [
    "n_features = ncol(X)\n",
    "n_features\n",
    "\n",
    "corr_y = cortest[n_features + 1, 1:n_features]\n",
    "corr_y\n",
    "\n",
    "corr_yabs = abs(corr_y)\n",
    "\n",
    "corr_yabs"
   ]
  },
  {
   "cell_type": "code",
   "execution_count": 72,
   "metadata": {
    "vscode": {
     "languageId": "r"
    }
   },
   "outputs": [
    {
     "data": {
      "text/html": [
       "<ol>\n",
       "\t<li>1</li>\n",
       "\t<li>3</li>\n",
       "\t<li>4</li>\n",
       "\t<li>6</li>\n",
       "\t<li>7</li>\n",
       "</ol>\n"
      ],
      "text/latex": [
       "\\begin{enumerate}\n",
       "\\item 1\n",
       "\\item 3\n",
       "\\item 4\n",
       "\\item 6\n",
       "\\item 7\n",
       "\\end{enumerate}\n"
      ],
      "text/markdown": [
       "1. 1\n",
       "2. 3\n",
       "3. 4\n",
       "4. 6\n",
       "5. 7\n",
       "\n",
       "\n"
      ],
      "text/plain": [
       "[[1]]\n",
       "[1] 1\n",
       "\n",
       "[[2]]\n",
       "[1] 3\n",
       "\n",
       "[[3]]\n",
       "[1] 4\n",
       "\n",
       "[[4]]\n",
       "[1] 6\n",
       "\n",
       "[[5]]\n",
       "[1] 7\n"
      ]
     },
     "metadata": {},
     "output_type": "display_data"
    }
   ],
   "source": [
    "selected_features = list()\n",
    "\n",
    "for (i in 1:n_features){\n",
    "    if (corr_yabs[i] > 0.5){\n",
    "        selected_features[[length(selected_features) + 1]] = i\n",
    "    }\n",
    "}\n",
    "\n",
    "selected_features"
   ]
  },
  {
   "cell_type": "code",
   "execution_count": 73,
   "metadata": {
    "vscode": {
     "languageId": "r"
    }
   },
   "outputs": [
    {
     "data": {
      "text/html": [
       "<style>\n",
       ".dl-inline {width: auto; margin:0; padding: 0}\n",
       ".dl-inline>dt, .dl-inline>dd {float: none; width: auto; display: inline-block}\n",
       ".dl-inline>dt::after {content: \":\\0020\"; padding-right: .5ex}\n",
       ".dl-inline>dt:not(:first-of-type) {padding-left: .5ex}\n",
       "</style><dl class=dl-inline><dt>X1</dt><dd>-0.837295761959791</dd><dt>X2</dt><dd>-0.0708188750487884</dd><dt>X3</dt><dd>-0.837957808034689</dd><dt>X4</dt><dd>-0.706713538364348</dd><dt>X5</dt><dd>0.493799047245563</dd><dt>X6</dt><dd>0.985070413923961</dd><dt>X7</dt><dd>-0.74111624382485</dd></dl>\n"
      ],
      "text/latex": [
       "\\begin{description*}\n",
       "\\item[X1] -0.837295761959791\n",
       "\\item[X2] -0.0708188750487884\n",
       "\\item[X3] -0.837957808034689\n",
       "\\item[X4] -0.706713538364348\n",
       "\\item[X5] 0.493799047245563\n",
       "\\item[X6] 0.985070413923961\n",
       "\\item[X7] -0.74111624382485\n",
       "\\end{description*}\n"
      ],
      "text/markdown": [
       "X1\n",
       ":   -0.837295761959791X2\n",
       ":   -0.0708188750487884X3\n",
       ":   -0.837957808034689X4\n",
       ":   -0.706713538364348X5\n",
       ":   0.493799047245563X6\n",
       ":   0.985070413923961X7\n",
       ":   -0.74111624382485\n",
       "\n"
      ],
      "text/plain": [
       "         X1          X2          X3          X4          X5          X6 \n",
       "-0.83729576 -0.07081888 -0.83795781 -0.70671354  0.49379905  0.98507041 \n",
       "         X7 \n",
       "-0.74111624 "
      ]
     },
     "metadata": {},
     "output_type": "display_data"
    },
    {
     "name": "stdout",
     "output_type": "stream",
     "text": [
      "[1] 1\n",
      "        X1 \n",
      "-0.8372958 \n",
      "[1] 3\n",
      "        X3 \n",
      "-0.8379578 \n",
      "[1] 4\n",
      "        X4 \n",
      "-0.7067135 \n",
      "[1] 6\n",
      "       X6 \n",
      "0.9850704 \n",
      "[1] 7\n",
      "        X7 \n",
      "-0.7411162 \n"
     ]
    }
   ],
   "source": [
    "cortest[n_features + 1,1:n_features]\n",
    "for (i in selected_features){\n",
    "    print(i)\n",
    "    print(cortest[n_features + 1,1:n_features][i])\n",
    "}"
   ]
  },
  {
   "cell_type": "code",
   "execution_count": 74,
   "metadata": {
    "vscode": {
     "languageId": "r"
    }
   },
   "outputs": [
    {
     "data": {
      "text/html": [
       "<table class=\"dataframe\">\n",
       "<caption>A data.frame: 12 × 1</caption>\n",
       "<thead>\n",
       "\t<tr><th></th><th scope=col>X1</th></tr>\n",
       "\t<tr><th></th><th scope=col>&lt;dbl&gt;</th></tr>\n",
       "</thead>\n",
       "<tbody>\n",
       "\t<tr><th scope=row>1</th><td> 2.329440267</td></tr>\n",
       "\t<tr><th scope=row>2</th><td> 2.181503312</td></tr>\n",
       "\t<tr><th scope=row>3</th><td> 2.013220272</td></tr>\n",
       "\t<tr><th scope=row>4</th><td> 1.804723828</td></tr>\n",
       "\t<tr><th scope=row>5</th><td>-0.471669358</td></tr>\n",
       "\t<tr><th scope=row>6</th><td> 1.952660783</td></tr>\n",
       "\t<tr><th scope=row>7</th><td>-2.070308220</td></tr>\n",
       "\t<tr><th scope=row>8</th><td>-1.961229291</td></tr>\n",
       "\t<tr><th scope=row>9</th><td>-1.961229291</td></tr>\n",
       "\t<tr><th scope=row>10</th><td>-1.888510006</td></tr>\n",
       "\t<tr><th scope=row>11</th><td>-1.920147673</td></tr>\n",
       "\t<tr><th scope=row>12</th><td>-0.008454622</td></tr>\n",
       "</tbody>\n",
       "</table>\n"
      ],
      "text/latex": [
       "A data.frame: 12 × 1\n",
       "\\begin{tabular}{r|l}\n",
       "  & X1\\\\\n",
       "  & <dbl>\\\\\n",
       "\\hline\n",
       "\t1 &  2.329440267\\\\\n",
       "\t2 &  2.181503312\\\\\n",
       "\t3 &  2.013220272\\\\\n",
       "\t4 &  1.804723828\\\\\n",
       "\t5 & -0.471669358\\\\\n",
       "\t6 &  1.952660783\\\\\n",
       "\t7 & -2.070308220\\\\\n",
       "\t8 & -1.961229291\\\\\n",
       "\t9 & -1.961229291\\\\\n",
       "\t10 & -1.888510006\\\\\n",
       "\t11 & -1.920147673\\\\\n",
       "\t12 & -0.008454622\\\\\n",
       "\\end{tabular}\n"
      ],
      "text/markdown": [
       "\n",
       "A data.frame: 12 × 1\n",
       "\n",
       "| <!--/--> | X1 &lt;dbl&gt; |\n",
       "|---|---|\n",
       "| 1 |  2.329440267 |\n",
       "| 2 |  2.181503312 |\n",
       "| 3 |  2.013220272 |\n",
       "| 4 |  1.804723828 |\n",
       "| 5 | -0.471669358 |\n",
       "| 6 |  1.952660783 |\n",
       "| 7 | -2.070308220 |\n",
       "| 8 | -1.961229291 |\n",
       "| 9 | -1.961229291 |\n",
       "| 10 | -1.888510006 |\n",
       "| 11 | -1.920147673 |\n",
       "| 12 | -0.008454622 |\n",
       "\n"
      ],
      "text/plain": [
       "   X1          \n",
       "1   2.329440267\n",
       "2   2.181503312\n",
       "3   2.013220272\n",
       "4   1.804723828\n",
       "5  -0.471669358\n",
       "6   1.952660783\n",
       "7  -2.070308220\n",
       "8  -1.961229291\n",
       "9  -1.961229291\n",
       "10 -1.888510006\n",
       "11 -1.920147673\n",
       "12 -0.008454622"
      ]
     },
     "metadata": {},
     "output_type": "display_data"
    }
   ],
   "source": [
    "sum1 = 0\n",
    "sum2 = 0\n",
    "for (i in selected_features){\n",
    "    sum1 = sum1 + cortest[n_features + 1 , 1:n_features][i] * df_scaled[i]\n",
    "    sum2 = sum2 + corr_yabs[i]**2\n",
    "}\n",
    "\n",
    "T1 = (1/sqrt(sum2)) * sum1\n",
    "\n",
    "T1"
   ]
  },
  {
   "cell_type": "code",
   "execution_count": 75,
   "metadata": {
    "vscode": {
     "languageId": "r"
    }
   },
   "outputs": [],
   "source": [
    "T = data.frame(T1 = T1)"
   ]
  },
  {
   "cell_type": "code",
   "execution_count": 76,
   "metadata": {
    "vscode": {
     "languageId": "r"
    }
   },
   "outputs": [
    {
     "data": {
      "text/html": [
       "<table class=\"dataframe\">\n",
       "<caption>A data.frame: 12 × 1</caption>\n",
       "<thead>\n",
       "\t<tr><th></th><th scope=col>T1</th></tr>\n",
       "\t<tr><th></th><th scope=col>&lt;dbl&gt;</th></tr>\n",
       "</thead>\n",
       "<tbody>\n",
       "\t<tr><th scope=row>1</th><td> 2.329440267</td></tr>\n",
       "\t<tr><th scope=row>2</th><td> 2.181503312</td></tr>\n",
       "\t<tr><th scope=row>3</th><td> 2.013220272</td></tr>\n",
       "\t<tr><th scope=row>4</th><td> 1.804723828</td></tr>\n",
       "\t<tr><th scope=row>5</th><td>-0.471669358</td></tr>\n",
       "\t<tr><th scope=row>6</th><td> 1.952660783</td></tr>\n",
       "\t<tr><th scope=row>7</th><td>-2.070308220</td></tr>\n",
       "\t<tr><th scope=row>8</th><td>-1.961229291</td></tr>\n",
       "\t<tr><th scope=row>9</th><td>-1.961229291</td></tr>\n",
       "\t<tr><th scope=row>10</th><td>-1.888510006</td></tr>\n",
       "\t<tr><th scope=row>11</th><td>-1.920147673</td></tr>\n",
       "\t<tr><th scope=row>12</th><td>-0.008454622</td></tr>\n",
       "</tbody>\n",
       "</table>\n"
      ],
      "text/latex": [
       "A data.frame: 12 × 1\n",
       "\\begin{tabular}{r|l}\n",
       "  & T1\\\\\n",
       "  & <dbl>\\\\\n",
       "\\hline\n",
       "\t1 &  2.329440267\\\\\n",
       "\t2 &  2.181503312\\\\\n",
       "\t3 &  2.013220272\\\\\n",
       "\t4 &  1.804723828\\\\\n",
       "\t5 & -0.471669358\\\\\n",
       "\t6 &  1.952660783\\\\\n",
       "\t7 & -2.070308220\\\\\n",
       "\t8 & -1.961229291\\\\\n",
       "\t9 & -1.961229291\\\\\n",
       "\t10 & -1.888510006\\\\\n",
       "\t11 & -1.920147673\\\\\n",
       "\t12 & -0.008454622\\\\\n",
       "\\end{tabular}\n"
      ],
      "text/markdown": [
       "\n",
       "A data.frame: 12 × 1\n",
       "\n",
       "| <!--/--> | T1 &lt;dbl&gt; |\n",
       "|---|---|\n",
       "| 1 |  2.329440267 |\n",
       "| 2 |  2.181503312 |\n",
       "| 3 |  2.013220272 |\n",
       "| 4 |  1.804723828 |\n",
       "| 5 | -0.471669358 |\n",
       "| 6 |  1.952660783 |\n",
       "| 7 | -2.070308220 |\n",
       "| 8 | -1.961229291 |\n",
       "| 9 | -1.961229291 |\n",
       "| 10 | -1.888510006 |\n",
       "| 11 | -1.920147673 |\n",
       "| 12 | -0.008454622 |\n",
       "\n"
      ],
      "text/plain": [
       "   T1          \n",
       "1   2.329440267\n",
       "2   2.181503312\n",
       "3   2.013220272\n",
       "4   1.804723828\n",
       "5  -0.471669358\n",
       "6   1.952660783\n",
       "7  -2.070308220\n",
       "8  -1.961229291\n",
       "9  -1.961229291\n",
       "10 -1.888510006\n",
       "11 -1.920147673\n",
       "12 -0.008454622"
      ]
     },
     "metadata": {},
     "output_type": "display_data"
    }
   ],
   "source": [
    "names(T)[names(T) == 'X1'] <- 'T1'\n",
    "T"
   ]
  },
  {
   "cell_type": "code",
   "execution_count": 77,
   "metadata": {
    "vscode": {
     "languageId": "r"
    }
   },
   "outputs": [],
   "source": [
    "Y_scaled = df_scaled[n_features + 1]"
   ]
  },
  {
   "cell_type": "code",
   "execution_count": 78,
   "metadata": {
    "vscode": {
     "languageId": "r"
    }
   },
   "outputs": [
    {
     "data": {
      "text/html": [
       "<table class=\"dataframe\">\n",
       "<caption>A data.frame: 12 × 1</caption>\n",
       "<thead>\n",
       "\t<tr><th></th><th scope=col>Y</th></tr>\n",
       "\t<tr><th></th><th scope=col>&lt;dbl&gt;</th></tr>\n",
       "</thead>\n",
       "<tbody>\n",
       "\t<tr><th scope=row>1</th><td> 1.55133368</td></tr>\n",
       "\t<tr><th scope=row>2</th><td> 1.41332377</td></tr>\n",
       "\t<tr><th scope=row>3</th><td> 1.22931055</td></tr>\n",
       "\t<tr><th scope=row>4</th><td> 0.52392653</td></tr>\n",
       "\t<tr><th scope=row>5</th><td>-0.30413296</td></tr>\n",
       "\t<tr><th scope=row>6</th><td> 0.40125105</td></tr>\n",
       "\t<tr><th scope=row>7</th><td>-1.02485141</td></tr>\n",
       "\t<tr><th scope=row>8</th><td>-0.84083819</td></tr>\n",
       "\t<tr><th scope=row>9</th><td>-0.94817924</td></tr>\n",
       "\t<tr><th scope=row>10</th><td>-0.82550375</td></tr>\n",
       "\t<tr><th scope=row>11</th><td>-1.10152359</td></tr>\n",
       "\t<tr><th scope=row>12</th><td>-0.07411644</td></tr>\n",
       "</tbody>\n",
       "</table>\n"
      ],
      "text/latex": [
       "A data.frame: 12 × 1\n",
       "\\begin{tabular}{r|l}\n",
       "  & Y\\\\\n",
       "  & <dbl>\\\\\n",
       "\\hline\n",
       "\t1 &  1.55133368\\\\\n",
       "\t2 &  1.41332377\\\\\n",
       "\t3 &  1.22931055\\\\\n",
       "\t4 &  0.52392653\\\\\n",
       "\t5 & -0.30413296\\\\\n",
       "\t6 &  0.40125105\\\\\n",
       "\t7 & -1.02485141\\\\\n",
       "\t8 & -0.84083819\\\\\n",
       "\t9 & -0.94817924\\\\\n",
       "\t10 & -0.82550375\\\\\n",
       "\t11 & -1.10152359\\\\\n",
       "\t12 & -0.07411644\\\\\n",
       "\\end{tabular}\n"
      ],
      "text/markdown": [
       "\n",
       "A data.frame: 12 × 1\n",
       "\n",
       "| <!--/--> | Y &lt;dbl&gt; |\n",
       "|---|---|\n",
       "| 1 |  1.55133368 |\n",
       "| 2 |  1.41332377 |\n",
       "| 3 |  1.22931055 |\n",
       "| 4 |  0.52392653 |\n",
       "| 5 | -0.30413296 |\n",
       "| 6 |  0.40125105 |\n",
       "| 7 | -1.02485141 |\n",
       "| 8 | -0.84083819 |\n",
       "| 9 | -0.94817924 |\n",
       "| 10 | -0.82550375 |\n",
       "| 11 | -1.10152359 |\n",
       "| 12 | -0.07411644 |\n",
       "\n"
      ],
      "text/plain": [
       "   Y          \n",
       "1   1.55133368\n",
       "2   1.41332377\n",
       "3   1.22931055\n",
       "4   0.52392653\n",
       "5  -0.30413296\n",
       "6   0.40125105\n",
       "7  -1.02485141\n",
       "8  -0.84083819\n",
       "9  -0.94817924\n",
       "10 -0.82550375\n",
       "11 -1.10152359\n",
       "12 -0.07411644"
      ]
     },
     "metadata": {},
     "output_type": "display_data"
    }
   ],
   "source": [
    "Y_scaled"
   ]
  },
  {
   "cell_type": "code",
   "execution_count": 79,
   "metadata": {
    "vscode": {
     "languageId": "r"
    }
   },
   "outputs": [
    {
     "data": {
      "text/html": [
       "<strong>X1:</strong> 0.641423523181747"
      ],
      "text/latex": [
       "\\textbf{X1:} 0.641423523181747"
      ],
      "text/markdown": [
       "**X1:** 0.641423523181747"
      ],
      "text/plain": [
       "       X1 \n",
       "0.6414235 "
      ]
     },
     "metadata": {},
     "output_type": "display_data"
    }
   ],
   "source": [
    "X_test = cbind(T,df_scaled[1])\n",
    "lmtest = lm(formula = unlist(Y_scaled) ~ . , data= X_test) \n",
    "\n",
    "\n",
    "p_value = summary(lmtest)$coefficients[,4][3]\n",
    "\n",
    "p_value"
   ]
  },
  {
   "cell_type": "code",
   "execution_count": 80,
   "metadata": {
    "vscode": {
     "languageId": "r"
    }
   },
   "outputs": [
    {
     "data": {
      "text/html": [
       "<table class=\"dataframe\">\n",
       "<caption>A data.frame: 12 × 2</caption>\n",
       "<thead>\n",
       "\t<tr><th></th><th scope=col>T1</th><th scope=col>X1</th></tr>\n",
       "\t<tr><th></th><th scope=col>&lt;dbl&gt;</th><th scope=col>&lt;dbl&gt;</th></tr>\n",
       "</thead>\n",
       "<tbody>\n",
       "\t<tr><th scope=row>1</th><td> 2.329440267</td><td>-0.8036272</td></tr>\n",
       "\t<tr><th scope=row>2</th><td> 2.181503312</td><td>-0.8036272</td></tr>\n",
       "\t<tr><th scope=row>3</th><td> 2.013220272</td><td>-0.8036272</td></tr>\n",
       "\t<tr><th scope=row>4</th><td> 1.804723828</td><td>-0.8036272</td></tr>\n",
       "\t<tr><th scope=row>5</th><td>-0.471669358</td><td>-0.8036272</td></tr>\n",
       "\t<tr><th scope=row>6</th><td> 1.952660783</td><td>-0.8036272</td></tr>\n",
       "\t<tr><th scope=row>7</th><td>-2.070308220</td><td> 1.0383947</td></tr>\n",
       "\t<tr><th scope=row>8</th><td>-1.961229291</td><td> 1.0383947</td></tr>\n",
       "\t<tr><th scope=row>9</th><td>-1.961229291</td><td> 1.0383947</td></tr>\n",
       "\t<tr><th scope=row>10</th><td>-1.888510006</td><td> 1.0383947</td></tr>\n",
       "\t<tr><th scope=row>11</th><td>-1.920147673</td><td> 1.4718116</td></tr>\n",
       "\t<tr><th scope=row>12</th><td>-0.008454622</td><td>-0.8036272</td></tr>\n",
       "</tbody>\n",
       "</table>\n"
      ],
      "text/latex": [
       "A data.frame: 12 × 2\n",
       "\\begin{tabular}{r|ll}\n",
       "  & T1 & X1\\\\\n",
       "  & <dbl> & <dbl>\\\\\n",
       "\\hline\n",
       "\t1 &  2.329440267 & -0.8036272\\\\\n",
       "\t2 &  2.181503312 & -0.8036272\\\\\n",
       "\t3 &  2.013220272 & -0.8036272\\\\\n",
       "\t4 &  1.804723828 & -0.8036272\\\\\n",
       "\t5 & -0.471669358 & -0.8036272\\\\\n",
       "\t6 &  1.952660783 & -0.8036272\\\\\n",
       "\t7 & -2.070308220 &  1.0383947\\\\\n",
       "\t8 & -1.961229291 &  1.0383947\\\\\n",
       "\t9 & -1.961229291 &  1.0383947\\\\\n",
       "\t10 & -1.888510006 &  1.0383947\\\\\n",
       "\t11 & -1.920147673 &  1.4718116\\\\\n",
       "\t12 & -0.008454622 & -0.8036272\\\\\n",
       "\\end{tabular}\n"
      ],
      "text/markdown": [
       "\n",
       "A data.frame: 12 × 2\n",
       "\n",
       "| <!--/--> | T1 &lt;dbl&gt; | X1 &lt;dbl&gt; |\n",
       "|---|---|---|\n",
       "| 1 |  2.329440267 | -0.8036272 |\n",
       "| 2 |  2.181503312 | -0.8036272 |\n",
       "| 3 |  2.013220272 | -0.8036272 |\n",
       "| 4 |  1.804723828 | -0.8036272 |\n",
       "| 5 | -0.471669358 | -0.8036272 |\n",
       "| 6 |  1.952660783 | -0.8036272 |\n",
       "| 7 | -2.070308220 |  1.0383947 |\n",
       "| 8 | -1.961229291 |  1.0383947 |\n",
       "| 9 | -1.961229291 |  1.0383947 |\n",
       "| 10 | -1.888510006 |  1.0383947 |\n",
       "| 11 | -1.920147673 |  1.4718116 |\n",
       "| 12 | -0.008454622 | -0.8036272 |\n",
       "\n"
      ],
      "text/plain": [
       "   T1           X1        \n",
       "1   2.329440267 -0.8036272\n",
       "2   2.181503312 -0.8036272\n",
       "3   2.013220272 -0.8036272\n",
       "4   1.804723828 -0.8036272\n",
       "5  -0.471669358 -0.8036272\n",
       "6   1.952660783 -0.8036272\n",
       "7  -2.070308220  1.0383947\n",
       "8  -1.961229291  1.0383947\n",
       "9  -1.961229291  1.0383947\n",
       "10 -1.888510006  1.0383947\n",
       "11 -1.920147673  1.4718116\n",
       "12 -0.008454622 -0.8036272"
      ]
     },
     "metadata": {},
     "output_type": "display_data"
    }
   ],
   "source": [
    "X_test"
   ]
  },
  {
   "cell_type": "code",
   "execution_count": 62,
   "metadata": {
    "vscode": {
     "languageId": "r"
    }
   },
   "outputs": [],
   "source": [
    "model = list()\n",
    "    for (i in 1:n_features){\n",
    "        X_ = 0\n",
    "        X_ = cbind(T,df_scaled[i])\n",
    "        model[[i]] = lm(formula = unlist(Y_scaled) ~ . , data= X_)                     \n",
    "    }"
   ]
  },
  {
   "cell_type": "code",
   "execution_count": 65,
   "metadata": {
    "vscode": {
     "languageId": "r"
    }
   },
   "outputs": [
    {
     "data": {
      "text/html": [
       "<table class=\"dataframe\">\n",
       "<caption>A data.frame: 12 × 2</caption>\n",
       "<thead>\n",
       "\t<tr><th></th><th scope=col>T1</th><th scope=col>X7</th></tr>\n",
       "\t<tr><th></th><th scope=col>&lt;dbl&gt;</th><th scope=col>&lt;dbl&gt;</th></tr>\n",
       "</thead>\n",
       "<tbody>\n",
       "\t<tr><th scope=row>1</th><td> 2.329440267</td><td>-0.9847319</td></tr>\n",
       "\t<tr><th scope=row>2</th><td> 2.181503312</td><td>-0.6154575</td></tr>\n",
       "\t<tr><th scope=row>3</th><td> 2.013220272</td><td>-0.6154575</td></tr>\n",
       "\t<tr><th scope=row>4</th><td> 1.804723828</td><td>-1.3540064</td></tr>\n",
       "\t<tr><th scope=row>5</th><td>-0.471669358</td><td> 0.8616404</td></tr>\n",
       "\t<tr><th scope=row>6</th><td> 1.952660783</td><td>-1.7232809</td></tr>\n",
       "\t<tr><th scope=row>7</th><td>-2.070308220</td><td> 0.8616404</td></tr>\n",
       "\t<tr><th scope=row>8</th><td>-1.961229291</td><td> 0.8616404</td></tr>\n",
       "\t<tr><th scope=row>9</th><td>-1.961229291</td><td> 0.8616404</td></tr>\n",
       "\t<tr><th scope=row>10</th><td>-1.888510006</td><td> 0.8616404</td></tr>\n",
       "\t<tr><th scope=row>11</th><td>-1.920147673</td><td> 0.1230915</td></tr>\n",
       "\t<tr><th scope=row>12</th><td>-0.008454622</td><td> 0.8616404</td></tr>\n",
       "</tbody>\n",
       "</table>\n"
      ],
      "text/latex": [
       "A data.frame: 12 × 2\n",
       "\\begin{tabular}{r|ll}\n",
       "  & T1 & X7\\\\\n",
       "  & <dbl> & <dbl>\\\\\n",
       "\\hline\n",
       "\t1 &  2.329440267 & -0.9847319\\\\\n",
       "\t2 &  2.181503312 & -0.6154575\\\\\n",
       "\t3 &  2.013220272 & -0.6154575\\\\\n",
       "\t4 &  1.804723828 & -1.3540064\\\\\n",
       "\t5 & -0.471669358 &  0.8616404\\\\\n",
       "\t6 &  1.952660783 & -1.7232809\\\\\n",
       "\t7 & -2.070308220 &  0.8616404\\\\\n",
       "\t8 & -1.961229291 &  0.8616404\\\\\n",
       "\t9 & -1.961229291 &  0.8616404\\\\\n",
       "\t10 & -1.888510006 &  0.8616404\\\\\n",
       "\t11 & -1.920147673 &  0.1230915\\\\\n",
       "\t12 & -0.008454622 &  0.8616404\\\\\n",
       "\\end{tabular}\n"
      ],
      "text/markdown": [
       "\n",
       "A data.frame: 12 × 2\n",
       "\n",
       "| <!--/--> | T1 &lt;dbl&gt; | X7 &lt;dbl&gt; |\n",
       "|---|---|---|\n",
       "| 1 |  2.329440267 | -0.9847319 |\n",
       "| 2 |  2.181503312 | -0.6154575 |\n",
       "| 3 |  2.013220272 | -0.6154575 |\n",
       "| 4 |  1.804723828 | -1.3540064 |\n",
       "| 5 | -0.471669358 |  0.8616404 |\n",
       "| 6 |  1.952660783 | -1.7232809 |\n",
       "| 7 | -2.070308220 |  0.8616404 |\n",
       "| 8 | -1.961229291 |  0.8616404 |\n",
       "| 9 | -1.961229291 |  0.8616404 |\n",
       "| 10 | -1.888510006 |  0.8616404 |\n",
       "| 11 | -1.920147673 |  0.1230915 |\n",
       "| 12 | -0.008454622 |  0.8616404 |\n",
       "\n"
      ],
      "text/plain": [
       "   T1           X7        \n",
       "1   2.329440267 -0.9847319\n",
       "2   2.181503312 -0.6154575\n",
       "3   2.013220272 -0.6154575\n",
       "4   1.804723828 -1.3540064\n",
       "5  -0.471669358  0.8616404\n",
       "6   1.952660783 -1.7232809\n",
       "7  -2.070308220  0.8616404\n",
       "8  -1.961229291  0.8616404\n",
       "9  -1.961229291  0.8616404\n",
       "10 -1.888510006  0.8616404\n",
       "11 -1.920147673  0.1230915\n",
       "12 -0.008454622  0.8616404"
      ]
     },
     "metadata": {},
     "output_type": "display_data"
    }
   ],
   "source": [
    "X_"
   ]
  },
  {
   "cell_type": "code",
   "execution_count": 63,
   "metadata": {
    "vscode": {
     "languageId": "r"
    }
   },
   "outputs": [
    {
     "data": {
      "text/html": [
       "7"
      ],
      "text/latex": [
       "7"
      ],
      "text/markdown": [
       "7"
      ],
      "text/plain": [
       "[1] 7"
      ]
     },
     "metadata": {},
     "output_type": "display_data"
    }
   ],
   "source": [
    "length(model)"
   ]
  },
  {
   "cell_type": "code",
   "execution_count": 81,
   "metadata": {
    "vscode": {
     "languageId": "r"
    }
   },
   "outputs": [],
   "source": [
    "col2 = list()\n",
    "for (i in 1:n_features){\n",
    "    p_value = summary(model[[i]])$coefficients[,4][3]\n",
    "    if (p_value < 0.05){\n",
    "        col2[[length(col2) + 1]] = i\n",
    "    }\n",
    "}\n",
    "\n"
   ]
  },
  {
   "cell_type": "code",
   "execution_count": 82,
   "metadata": {
    "vscode": {
     "languageId": "r"
    }
   },
   "outputs": [
    {
     "data": {
      "text/html": [
       "<ol>\n",
       "\t<li>2</li>\n",
       "\t<li>6</li>\n",
       "</ol>\n"
      ],
      "text/latex": [
       "\\begin{enumerate}\n",
       "\\item 2\n",
       "\\item 6\n",
       "\\end{enumerate}\n"
      ],
      "text/markdown": [
       "1. 2\n",
       "2. 6\n",
       "\n",
       "\n"
      ],
      "text/plain": [
       "[[1]]\n",
       "[1] 2\n",
       "\n",
       "[[2]]\n",
       "[1] 6\n"
      ]
     },
     "metadata": {},
     "output_type": "display_data"
    }
   ],
   "source": [
    "col2"
   ]
  },
  {
   "cell_type": "code",
   "execution_count": 83,
   "metadata": {
    "vscode": {
     "languageId": "r"
    }
   },
   "outputs": [
    {
     "name": "stdout",
     "output_type": "stream",
     "text": [
      "[1] 2\n",
      "[1] 6\n"
     ]
    }
   ],
   "source": [
    "residu = list()\n",
    "\n",
    "for (i in col2){\n",
    "    print(i)\n",
    "    model = lm(formula = unlist(df_scaled[i]) ~ . , data = T)\n",
    "    residu[[length(residu) + 1]] = resid(model)\n",
    "}"
   ]
  },
  {
   "cell_type": "code",
   "execution_count": 84,
   "metadata": {
    "vscode": {
     "languageId": "r"
    }
   },
   "outputs": [
    {
     "data": {
      "text/html": [
       "2"
      ],
      "text/latex": [
       "2"
      ],
      "text/markdown": [
       "2"
      ],
      "text/plain": [
       "[1] 2"
      ]
     },
     "metadata": {},
     "output_type": "display_data"
    }
   ],
   "source": [
    "length(residu)"
   ]
  },
  {
   "cell_type": "code",
   "execution_count": 85,
   "metadata": {
    "vscode": {
     "languageId": "r"
    }
   },
   "outputs": [],
   "source": [
    "X1n = list()\n",
    "for (r in residu){\n",
    "    X1n[[length(X1n) + 1]] = r/var(r)\n",
    "}"
   ]
  },
  {
   "cell_type": "code",
   "execution_count": 87,
   "metadata": {
    "vscode": {
     "languageId": "r"
    }
   },
   "outputs": [
    {
     "data": {
      "text/html": [
       "<ol>\n",
       "\t<li><style>\n",
       ".dl-inline {width: auto; margin:0; padding: 0}\n",
       ".dl-inline>dt, .dl-inline>dd {float: none; width: auto; display: inline-block}\n",
       ".dl-inline>dt::after {content: \":\\0020\"; padding-right: .5ex}\n",
       ".dl-inline>dt:not(:first-of-type) {padding-left: .5ex}\n",
       "</style><dl class=dl-inline><dt>1</dt><dd>-0.0970829489552213</dd><dt>2</dt><dd>-0.763025271650149</dd><dt>3</dt><dd>-1.27159893170469</dd><dt>4</dt><dd>1.29037079446615</dd><dt>5</dt><dd>-1.10332608319559</dd><dt>6</dt><dd>1.95631311716108</dd><dt>7</dt><dd>0.408848963554915</dd><dt>8</dt><dd>-0.0145133112690086</dd><dt>9</dt><dd>0.0894805937229775</dd><dt>10</dt><dd>-0.227425557823634</dd><dt>11</dt><dd>0.866652898033134</dd><dt>12</dt><dd>-1.13469426233997</dd></dl>\n",
       "</li>\n",
       "\t<li><style>\n",
       ".dl-inline {width: auto; margin:0; padding: 0}\n",
       ".dl-inline>dt, .dl-inline>dd {float: none; width: auto; display: inline-block}\n",
       ".dl-inline>dt::after {content: \":\\0020\"; padding-right: .5ex}\n",
       ".dl-inline>dt:not(:first-of-type) {padding-left: .5ex}\n",
       "</style><dl class=dl-inline><dt>1</dt><dd>2.29084176716599</dd><dt>2</dt><dd>2.75095782612238</dd><dt>3</dt><dd>3.27435462929139</dd><dt>4</dt><dd>-4.29842404879646</dd><dt>5</dt><dd>-1.44006874198091</dd><dt>6</dt><dd>-4.75854010775285</dd><dt>7</dt><dd>-0.467480689201187</dd><dt>8</dt><dd>0.526435487610607</dd><dt>9</dt><dd>0.526435487610607</dd><dt>10</dt><dd>1.1890462721518</dd><dt>11</dt><dd>-0.93451260459283</dd><dt>12</dt><dd>1.34095472237146</dd></dl>\n",
       "</li>\n",
       "</ol>\n"
      ],
      "text/latex": [
       "\\begin{enumerate}\n",
       "\\item \\begin{description*}\n",
       "\\item[1] -0.0970829489552213\n",
       "\\item[2] -0.763025271650149\n",
       "\\item[3] -1.27159893170469\n",
       "\\item[4] 1.29037079446615\n",
       "\\item[5] -1.10332608319559\n",
       "\\item[6] 1.95631311716108\n",
       "\\item[7] 0.408848963554915\n",
       "\\item[8] -0.0145133112690086\n",
       "\\item[9] 0.0894805937229775\n",
       "\\item[10] -0.227425557823634\n",
       "\\item[11] 0.866652898033134\n",
       "\\item[12] -1.13469426233997\n",
       "\\end{description*}\n",
       "\n",
       "\\item \\begin{description*}\n",
       "\\item[1] 2.29084176716599\n",
       "\\item[2] 2.75095782612238\n",
       "\\item[3] 3.27435462929139\n",
       "\\item[4] -4.29842404879646\n",
       "\\item[5] -1.44006874198091\n",
       "\\item[6] -4.75854010775285\n",
       "\\item[7] -0.467480689201187\n",
       "\\item[8] 0.526435487610607\n",
       "\\item[9] 0.526435487610607\n",
       "\\item[10] 1.1890462721518\n",
       "\\item[11] -0.93451260459283\n",
       "\\item[12] 1.34095472237146\n",
       "\\end{description*}\n",
       "\n",
       "\\end{enumerate}\n"
      ],
      "text/markdown": [
       "1. 1\n",
       ":   -0.09708294895522132\n",
       ":   -0.7630252716501493\n",
       ":   -1.271598931704694\n",
       ":   1.290370794466155\n",
       ":   -1.103326083195596\n",
       ":   1.956313117161087\n",
       ":   0.4088489635549158\n",
       ":   -0.01451331126900869\n",
       ":   0.089480593722977510\n",
       ":   -0.22742555782363411\n",
       ":   0.86665289803313412\n",
       ":   -1.13469426233997\n",
       "\n",
       "\n",
       "2. 1\n",
       ":   2.290841767165992\n",
       ":   2.750957826122383\n",
       ":   3.274354629291394\n",
       ":   -4.298424048796465\n",
       ":   -1.440068741980916\n",
       ":   -4.758540107752857\n",
       ":   -0.4674806892011878\n",
       ":   0.5264354876106079\n",
       ":   0.52643548761060710\n",
       ":   1.189046272151811\n",
       ":   -0.9345126045928312\n",
       ":   1.34095472237146\n",
       "\n",
       "\n",
       "\n",
       "\n"
      ],
      "text/plain": [
       "[[1]]\n",
       "          1           2           3           4           5           6 \n",
       "-0.09708295 -0.76302527 -1.27159893  1.29037079 -1.10332608  1.95631312 \n",
       "          7           8           9          10          11          12 \n",
       " 0.40884896 -0.01451331  0.08948059 -0.22742556  0.86665290 -1.13469426 \n",
       "\n",
       "[[2]]\n",
       "         1          2          3          4          5          6          7 \n",
       " 2.2908418  2.7509578  3.2743546 -4.2984240 -1.4400687 -4.7585401 -0.4674807 \n",
       "         8          9         10         11         12 \n",
       " 0.5264355  0.5264355  1.1890463 -0.9345126  1.3409547 \n"
      ]
     },
     "metadata": {},
     "output_type": "display_data"
    }
   ],
   "source": [
    "X1n"
   ]
  },
  {
   "cell_type": "code",
   "execution_count": 96,
   "metadata": {
    "vscode": {
     "languageId": "r"
    }
   },
   "outputs": [],
   "source": [
    "model2 = list()\n",
    "for (i in 1:length(X1n)){\n",
    "    dt = data.frame(T)\n",
    "    dt[1] = X1n[[i]]\n",
    "    model2[[i]] = lm(formula = unlist(Y_scaled) ~ . , data = dt)\n",
    "\n",
    "}"
   ]
  },
  {
   "cell_type": "code",
   "execution_count": 97,
   "metadata": {
    "vscode": {
     "languageId": "r"
    }
   },
   "outputs": [
    {
     "data": {
      "text/html": [
       "<table class=\"dataframe\">\n",
       "<caption>A data.frame: 12 × 2</caption>\n",
       "<thead>\n",
       "\t<tr><th></th><th scope=col>T1</th><th scope=col>T2</th></tr>\n",
       "\t<tr><th></th><th scope=col>&lt;dbl&gt;</th><th scope=col>&lt;dbl&gt;</th></tr>\n",
       "</thead>\n",
       "<tbody>\n",
       "\t<tr><th scope=row>1</th><td> 2.2908418</td><td> 0.18138080</td></tr>\n",
       "\t<tr><th scope=row>2</th><td> 2.7509578</td><td>-0.23177857</td></tr>\n",
       "\t<tr><th scope=row>3</th><td> 3.2743546</td><td>-0.52861538</td></tr>\n",
       "\t<tr><th scope=row>4</th><td>-4.2984240</td><td> 0.43040559</td></tr>\n",
       "\t<tr><th scope=row>5</th><td>-1.4400687</td><td>-0.92380733</td></tr>\n",
       "\t<tr><th scope=row>6</th><td>-4.7585401</td><td> 0.84356497</td></tr>\n",
       "\t<tr><th scope=row>7</th><td>-0.4674807</td><td> 0.23355534</td></tr>\n",
       "\t<tr><th scope=row>8</th><td> 0.5264355</td><td> 0.04710354</td></tr>\n",
       "\t<tr><th scope=row>9</th><td> 0.5264355</td><td> 0.11942945</td></tr>\n",
       "\t<tr><th scope=row>10</th><td> 1.1890463</td><td>-0.02898039</td></tr>\n",
       "\t<tr><th scope=row>11</th><td>-0.9345126</td><td> 0.50120676</td></tr>\n",
       "\t<tr><th scope=row>12</th><td> 1.3409547</td><td>-0.64346477</td></tr>\n",
       "</tbody>\n",
       "</table>\n"
      ],
      "text/latex": [
       "A data.frame: 12 × 2\n",
       "\\begin{tabular}{r|ll}\n",
       "  & T1 & T2\\\\\n",
       "  & <dbl> & <dbl>\\\\\n",
       "\\hline\n",
       "\t1 &  2.2908418 &  0.18138080\\\\\n",
       "\t2 &  2.7509578 & -0.23177857\\\\\n",
       "\t3 &  3.2743546 & -0.52861538\\\\\n",
       "\t4 & -4.2984240 &  0.43040559\\\\\n",
       "\t5 & -1.4400687 & -0.92380733\\\\\n",
       "\t6 & -4.7585401 &  0.84356497\\\\\n",
       "\t7 & -0.4674807 &  0.23355534\\\\\n",
       "\t8 &  0.5264355 &  0.04710354\\\\\n",
       "\t9 &  0.5264355 &  0.11942945\\\\\n",
       "\t10 &  1.1890463 & -0.02898039\\\\\n",
       "\t11 & -0.9345126 &  0.50120676\\\\\n",
       "\t12 &  1.3409547 & -0.64346477\\\\\n",
       "\\end{tabular}\n"
      ],
      "text/markdown": [
       "\n",
       "A data.frame: 12 × 2\n",
       "\n",
       "| <!--/--> | T1 &lt;dbl&gt; | T2 &lt;dbl&gt; |\n",
       "|---|---|---|\n",
       "| 1 |  2.2908418 |  0.18138080 |\n",
       "| 2 |  2.7509578 | -0.23177857 |\n",
       "| 3 |  3.2743546 | -0.52861538 |\n",
       "| 4 | -4.2984240 |  0.43040559 |\n",
       "| 5 | -1.4400687 | -0.92380733 |\n",
       "| 6 | -4.7585401 |  0.84356497 |\n",
       "| 7 | -0.4674807 |  0.23355534 |\n",
       "| 8 |  0.5264355 |  0.04710354 |\n",
       "| 9 |  0.5264355 |  0.11942945 |\n",
       "| 10 |  1.1890463 | -0.02898039 |\n",
       "| 11 | -0.9345126 |  0.50120676 |\n",
       "| 12 |  1.3409547 | -0.64346477 |\n",
       "\n"
      ],
      "text/plain": [
       "   T1         T2         \n",
       "1   2.2908418  0.18138080\n",
       "2   2.7509578 -0.23177857\n",
       "3   3.2743546 -0.52861538\n",
       "4  -4.2984240  0.43040559\n",
       "5  -1.4400687 -0.92380733\n",
       "6  -4.7585401  0.84356497\n",
       "7  -0.4674807  0.23355534\n",
       "8   0.5264355  0.04710354\n",
       "9   0.5264355  0.11942945\n",
       "10  1.1890463 -0.02898039\n",
       "11 -0.9345126  0.50120676\n",
       "12  1.3409547 -0.64346477"
      ]
     },
     "metadata": {},
     "output_type": "display_data"
    }
   ],
   "source": [
    "dt"
   ]
  },
  {
   "cell_type": "code",
   "execution_count": 98,
   "metadata": {
    "vscode": {
     "languageId": "r"
    }
   },
   "outputs": [
    {
     "data": {
      "text/html": [
       "<table class=\"dataframe\">\n",
       "<caption>A data.frame: 12 × 2</caption>\n",
       "<thead>\n",
       "\t<tr><th></th><th scope=col>T1</th><th scope=col>T2</th></tr>\n",
       "\t<tr><th></th><th scope=col>&lt;dbl&gt;</th><th scope=col>&lt;dbl&gt;</th></tr>\n",
       "</thead>\n",
       "<tbody>\n",
       "\t<tr><th scope=row>1</th><td> 2.2908418</td><td> 0.18138080</td></tr>\n",
       "\t<tr><th scope=row>2</th><td> 2.7509578</td><td>-0.23177857</td></tr>\n",
       "\t<tr><th scope=row>3</th><td> 3.2743546</td><td>-0.52861538</td></tr>\n",
       "\t<tr><th scope=row>4</th><td>-4.2984240</td><td> 0.43040559</td></tr>\n",
       "\t<tr><th scope=row>5</th><td>-1.4400687</td><td>-0.92380733</td></tr>\n",
       "\t<tr><th scope=row>6</th><td>-4.7585401</td><td> 0.84356497</td></tr>\n",
       "\t<tr><th scope=row>7</th><td>-0.4674807</td><td> 0.23355534</td></tr>\n",
       "\t<tr><th scope=row>8</th><td> 0.5264355</td><td> 0.04710354</td></tr>\n",
       "\t<tr><th scope=row>9</th><td> 0.5264355</td><td> 0.11942945</td></tr>\n",
       "\t<tr><th scope=row>10</th><td> 1.1890463</td><td>-0.02898039</td></tr>\n",
       "\t<tr><th scope=row>11</th><td>-0.9345126</td><td> 0.50120676</td></tr>\n",
       "\t<tr><th scope=row>12</th><td> 1.3409547</td><td>-0.64346477</td></tr>\n",
       "</tbody>\n",
       "</table>\n"
      ],
      "text/latex": [
       "A data.frame: 12 × 2\n",
       "\\begin{tabular}{r|ll}\n",
       "  & T1 & T2\\\\\n",
       "  & <dbl> & <dbl>\\\\\n",
       "\\hline\n",
       "\t1 &  2.2908418 &  0.18138080\\\\\n",
       "\t2 &  2.7509578 & -0.23177857\\\\\n",
       "\t3 &  3.2743546 & -0.52861538\\\\\n",
       "\t4 & -4.2984240 &  0.43040559\\\\\n",
       "\t5 & -1.4400687 & -0.92380733\\\\\n",
       "\t6 & -4.7585401 &  0.84356497\\\\\n",
       "\t7 & -0.4674807 &  0.23355534\\\\\n",
       "\t8 &  0.5264355 &  0.04710354\\\\\n",
       "\t9 &  0.5264355 &  0.11942945\\\\\n",
       "\t10 &  1.1890463 & -0.02898039\\\\\n",
       "\t11 & -0.9345126 &  0.50120676\\\\\n",
       "\t12 &  1.3409547 & -0.64346477\\\\\n",
       "\\end{tabular}\n"
      ],
      "text/markdown": [
       "\n",
       "A data.frame: 12 × 2\n",
       "\n",
       "| <!--/--> | T1 &lt;dbl&gt; | T2 &lt;dbl&gt; |\n",
       "|---|---|---|\n",
       "| 1 |  2.2908418 |  0.18138080 |\n",
       "| 2 |  2.7509578 | -0.23177857 |\n",
       "| 3 |  3.2743546 | -0.52861538 |\n",
       "| 4 | -4.2984240 |  0.43040559 |\n",
       "| 5 | -1.4400687 | -0.92380733 |\n",
       "| 6 | -4.7585401 |  0.84356497 |\n",
       "| 7 | -0.4674807 |  0.23355534 |\n",
       "| 8 |  0.5264355 |  0.04710354 |\n",
       "| 9 |  0.5264355 |  0.11942945 |\n",
       "| 10 |  1.1890463 | -0.02898039 |\n",
       "| 11 | -0.9345126 |  0.50120676 |\n",
       "| 12 |  1.3409547 | -0.64346477 |\n",
       "\n"
      ],
      "text/plain": [
       "   T1         T2         \n",
       "1   2.2908418  0.18138080\n",
       "2   2.7509578 -0.23177857\n",
       "3   3.2743546 -0.52861538\n",
       "4  -4.2984240  0.43040559\n",
       "5  -1.4400687 -0.92380733\n",
       "6  -4.7585401  0.84356497\n",
       "7  -0.4674807  0.23355534\n",
       "8   0.5264355  0.04710354\n",
       "9   0.5264355  0.11942945\n",
       "10  1.1890463 -0.02898039\n",
       "11 -0.9345126  0.50120676\n",
       "12  1.3409547 -0.64346477"
      ]
     },
     "metadata": {},
     "output_type": "display_data"
    }
   ],
   "source": [
    "dt"
   ]
  },
  {
   "cell_type": "code",
   "execution_count": 99,
   "metadata": {
    "vscode": {
     "languageId": "r"
    }
   },
   "outputs": [
    {
     "data": {
      "text/html": [
       "<table class=\"dataframe\">\n",
       "<caption>A data.frame: 12 × 2</caption>\n",
       "<thead>\n",
       "\t<tr><th></th><th scope=col>T1</th><th scope=col>T2</th></tr>\n",
       "\t<tr><th></th><th scope=col>&lt;dbl&gt;</th><th scope=col>&lt;dbl&gt;</th></tr>\n",
       "</thead>\n",
       "<tbody>\n",
       "\t<tr><th scope=row>1</th><td> 2.329440267</td><td> 0.18138080</td></tr>\n",
       "\t<tr><th scope=row>2</th><td> 2.181503312</td><td>-0.23177857</td></tr>\n",
       "\t<tr><th scope=row>3</th><td> 2.013220272</td><td>-0.52861538</td></tr>\n",
       "\t<tr><th scope=row>4</th><td> 1.804723828</td><td> 0.43040559</td></tr>\n",
       "\t<tr><th scope=row>5</th><td>-0.471669358</td><td>-0.92380733</td></tr>\n",
       "\t<tr><th scope=row>6</th><td> 1.952660783</td><td> 0.84356497</td></tr>\n",
       "\t<tr><th scope=row>7</th><td>-2.070308220</td><td> 0.23355534</td></tr>\n",
       "\t<tr><th scope=row>8</th><td>-1.961229291</td><td> 0.04710354</td></tr>\n",
       "\t<tr><th scope=row>9</th><td>-1.961229291</td><td> 0.11942945</td></tr>\n",
       "\t<tr><th scope=row>10</th><td>-1.888510006</td><td>-0.02898039</td></tr>\n",
       "\t<tr><th scope=row>11</th><td>-1.920147673</td><td> 0.50120676</td></tr>\n",
       "\t<tr><th scope=row>12</th><td>-0.008454622</td><td>-0.64346477</td></tr>\n",
       "</tbody>\n",
       "</table>\n"
      ],
      "text/latex": [
       "A data.frame: 12 × 2\n",
       "\\begin{tabular}{r|ll}\n",
       "  & T1 & T2\\\\\n",
       "  & <dbl> & <dbl>\\\\\n",
       "\\hline\n",
       "\t1 &  2.329440267 &  0.18138080\\\\\n",
       "\t2 &  2.181503312 & -0.23177857\\\\\n",
       "\t3 &  2.013220272 & -0.52861538\\\\\n",
       "\t4 &  1.804723828 &  0.43040559\\\\\n",
       "\t5 & -0.471669358 & -0.92380733\\\\\n",
       "\t6 &  1.952660783 &  0.84356497\\\\\n",
       "\t7 & -2.070308220 &  0.23355534\\\\\n",
       "\t8 & -1.961229291 &  0.04710354\\\\\n",
       "\t9 & -1.961229291 &  0.11942945\\\\\n",
       "\t10 & -1.888510006 & -0.02898039\\\\\n",
       "\t11 & -1.920147673 &  0.50120676\\\\\n",
       "\t12 & -0.008454622 & -0.64346477\\\\\n",
       "\\end{tabular}\n"
      ],
      "text/markdown": [
       "\n",
       "A data.frame: 12 × 2\n",
       "\n",
       "| <!--/--> | T1 &lt;dbl&gt; | T2 &lt;dbl&gt; |\n",
       "|---|---|---|\n",
       "| 1 |  2.329440267 |  0.18138080 |\n",
       "| 2 |  2.181503312 | -0.23177857 |\n",
       "| 3 |  2.013220272 | -0.52861538 |\n",
       "| 4 |  1.804723828 |  0.43040559 |\n",
       "| 5 | -0.471669358 | -0.92380733 |\n",
       "| 6 |  1.952660783 |  0.84356497 |\n",
       "| 7 | -2.070308220 |  0.23355534 |\n",
       "| 8 | -1.961229291 |  0.04710354 |\n",
       "| 9 | -1.961229291 |  0.11942945 |\n",
       "| 10 | -1.888510006 | -0.02898039 |\n",
       "| 11 | -1.920147673 |  0.50120676 |\n",
       "| 12 | -0.008454622 | -0.64346477 |\n",
       "\n"
      ],
      "text/plain": [
       "   T1           T2         \n",
       "1   2.329440267  0.18138080\n",
       "2   2.181503312 -0.23177857\n",
       "3   2.013220272 -0.52861538\n",
       "4   1.804723828  0.43040559\n",
       "5  -0.471669358 -0.92380733\n",
       "6   1.952660783  0.84356497\n",
       "7  -2.070308220  0.23355534\n",
       "8  -1.961229291  0.04710354\n",
       "9  -1.961229291  0.11942945\n",
       "10 -1.888510006 -0.02898039\n",
       "11 -1.920147673  0.50120676\n",
       "12 -0.008454622 -0.64346477"
      ]
     },
     "metadata": {},
     "output_type": "display_data"
    }
   ],
   "source": [
    "T"
   ]
  },
  {
   "cell_type": "code",
   "execution_count": 92,
   "metadata": {
    "vscode": {
     "languageId": "r"
    }
   },
   "outputs": [
    {
     "data": {
      "text/plain": [
       "\n",
       "Call:\n",
       "lm(formula = unlist(Y_scaled) ~ ., data = dt)\n",
       "\n",
       "Residuals:\n",
       "     Min       1Q   Median       3Q      Max \n",
       "-0.29007 -0.14346  0.03672  0.09985  0.36962 \n",
       "\n",
       "Coefficients:\n",
       "              Estimate Std. Error t value Pr(>|t|)    \n",
       "(Intercept)  5.090e-16  6.238e-02   0.000   1.0000    \n",
       "T1           4.992e-01  3.385e-02  14.749 1.31e-07 ***\n",
       "V2          -1.940e-01  6.462e-02  -3.003   0.0149 *  \n",
       "---\n",
       "Signif. codes:  0 '***' 0.001 '**' 0.01 '*' 0.05 '.' 0.1 ' ' 1\n",
       "\n",
       "Residual standard error: 0.2161 on 9 degrees of freedom\n",
       "Multiple R-squared:  0.9618,\tAdjusted R-squared:  0.9533 \n",
       "F-statistic: 113.3 on 2 and 9 DF,  p-value: 4.167e-07\n"
      ]
     },
     "metadata": {},
     "output_type": "display_data"
    }
   ],
   "source": [
    "summary(model2[[1]])"
   ]
  },
  {
   "cell_type": "code",
   "execution_count": 93,
   "metadata": {
    "vscode": {
     "languageId": "r"
    }
   },
   "outputs": [
    {
     "data": {
      "text/html": [
       "<ol>\n",
       "\t<li>0.499209922740137</li>\n",
       "\t<li>0.499209922740137</li>\n",
       "</ol>\n"
      ],
      "text/latex": [
       "\\begin{enumerate}\n",
       "\\item 0.499209922740137\n",
       "\\item 0.499209922740137\n",
       "\\end{enumerate}\n"
      ],
      "text/markdown": [
       "1. 0.499209922740137\n",
       "2. 0.499209922740137\n",
       "\n",
       "\n"
      ],
      "text/plain": [
       "[[1]]\n",
       "[1] 0.4992099\n",
       "\n",
       "[[2]]\n",
       "[1] 0.4992099\n"
      ]
     },
     "metadata": {},
     "output_type": "display_data"
    }
   ],
   "source": [
    "ceofs = list()\n",
    "for (i in 1:length(model2)){\n",
    "    ceofs[[length(ceofs) + 1]] = summary(model2[[i]])$coefficients[2]\n",
    "}\n",
    "\n",
    "ceofs"
   ]
  },
  {
   "cell_type": "code",
   "execution_count": 94,
   "metadata": {
    "vscode": {
     "languageId": "r"
    }
   },
   "outputs": [],
   "source": [
    "sum1 = 0\n",
    "sum2 = 0\n",
    "for (i in 1:length(residu)){\n",
    "    sum1 = sum1 + ceofs[[i]] * residu[[i]]\n",
    "    sum2 = sum2 + ceofs[[i]]**2\n",
    "}\n",
    "\n",
    "T[paste(c(\"T\", 2), collapse = \"\")] = (1/sqrt(sum2)) * sum1\n",
    "\n"
   ]
  },
  {
   "cell_type": "code",
   "execution_count": 95,
   "metadata": {
    "vscode": {
     "languageId": "r"
    }
   },
   "outputs": [
    {
     "data": {
      "text/html": [
       "<table class=\"dataframe\">\n",
       "<caption>A data.frame: 12 × 2</caption>\n",
       "<thead>\n",
       "\t<tr><th></th><th scope=col>T1</th><th scope=col>T2</th></tr>\n",
       "\t<tr><th></th><th scope=col>&lt;dbl&gt;</th><th scope=col>&lt;dbl&gt;</th></tr>\n",
       "</thead>\n",
       "<tbody>\n",
       "\t<tr><th scope=row>1</th><td> 2.329440267</td><td> 0.18138080</td></tr>\n",
       "\t<tr><th scope=row>2</th><td> 2.181503312</td><td>-0.23177857</td></tr>\n",
       "\t<tr><th scope=row>3</th><td> 2.013220272</td><td>-0.52861538</td></tr>\n",
       "\t<tr><th scope=row>4</th><td> 1.804723828</td><td> 0.43040559</td></tr>\n",
       "\t<tr><th scope=row>5</th><td>-0.471669358</td><td>-0.92380733</td></tr>\n",
       "\t<tr><th scope=row>6</th><td> 1.952660783</td><td> 0.84356497</td></tr>\n",
       "\t<tr><th scope=row>7</th><td>-2.070308220</td><td> 0.23355534</td></tr>\n",
       "\t<tr><th scope=row>8</th><td>-1.961229291</td><td> 0.04710354</td></tr>\n",
       "\t<tr><th scope=row>9</th><td>-1.961229291</td><td> 0.11942945</td></tr>\n",
       "\t<tr><th scope=row>10</th><td>-1.888510006</td><td>-0.02898039</td></tr>\n",
       "\t<tr><th scope=row>11</th><td>-1.920147673</td><td> 0.50120676</td></tr>\n",
       "\t<tr><th scope=row>12</th><td>-0.008454622</td><td>-0.64346477</td></tr>\n",
       "</tbody>\n",
       "</table>\n"
      ],
      "text/latex": [
       "A data.frame: 12 × 2\n",
       "\\begin{tabular}{r|ll}\n",
       "  & T1 & T2\\\\\n",
       "  & <dbl> & <dbl>\\\\\n",
       "\\hline\n",
       "\t1 &  2.329440267 &  0.18138080\\\\\n",
       "\t2 &  2.181503312 & -0.23177857\\\\\n",
       "\t3 &  2.013220272 & -0.52861538\\\\\n",
       "\t4 &  1.804723828 &  0.43040559\\\\\n",
       "\t5 & -0.471669358 & -0.92380733\\\\\n",
       "\t6 &  1.952660783 &  0.84356497\\\\\n",
       "\t7 & -2.070308220 &  0.23355534\\\\\n",
       "\t8 & -1.961229291 &  0.04710354\\\\\n",
       "\t9 & -1.961229291 &  0.11942945\\\\\n",
       "\t10 & -1.888510006 & -0.02898039\\\\\n",
       "\t11 & -1.920147673 &  0.50120676\\\\\n",
       "\t12 & -0.008454622 & -0.64346477\\\\\n",
       "\\end{tabular}\n"
      ],
      "text/markdown": [
       "\n",
       "A data.frame: 12 × 2\n",
       "\n",
       "| <!--/--> | T1 &lt;dbl&gt; | T2 &lt;dbl&gt; |\n",
       "|---|---|---|\n",
       "| 1 |  2.329440267 |  0.18138080 |\n",
       "| 2 |  2.181503312 | -0.23177857 |\n",
       "| 3 |  2.013220272 | -0.52861538 |\n",
       "| 4 |  1.804723828 |  0.43040559 |\n",
       "| 5 | -0.471669358 | -0.92380733 |\n",
       "| 6 |  1.952660783 |  0.84356497 |\n",
       "| 7 | -2.070308220 |  0.23355534 |\n",
       "| 8 | -1.961229291 |  0.04710354 |\n",
       "| 9 | -1.961229291 |  0.11942945 |\n",
       "| 10 | -1.888510006 | -0.02898039 |\n",
       "| 11 | -1.920147673 |  0.50120676 |\n",
       "| 12 | -0.008454622 | -0.64346477 |\n",
       "\n"
      ],
      "text/plain": [
       "   T1           T2         \n",
       "1   2.329440267  0.18138080\n",
       "2   2.181503312 -0.23177857\n",
       "3   2.013220272 -0.52861538\n",
       "4   1.804723828  0.43040559\n",
       "5  -0.471669358 -0.92380733\n",
       "6   1.952660783  0.84356497\n",
       "7  -2.070308220  0.23355534\n",
       "8  -1.961229291  0.04710354\n",
       "9  -1.961229291  0.11942945\n",
       "10 -1.888510006 -0.02898039\n",
       "11 -1.920147673  0.50120676\n",
       "12 -0.008454622 -0.64346477"
      ]
     },
     "metadata": {},
     "output_type": "display_data"
    }
   ],
   "source": [
    "T"
   ]
  }
 ],
 "metadata": {
  "kernelspec": {
   "display_name": "R",
   "language": "R",
   "name": "ir"
  },
  "language_info": {
   "codemirror_mode": "r",
   "file_extension": ".r",
   "mimetype": "text/x-r-source",
   "name": "R",
   "pygments_lexer": "r",
   "version": "4.2.2"
  },
  "orig_nbformat": 4
 },
 "nbformat": 4,
 "nbformat_minor": 2
}
